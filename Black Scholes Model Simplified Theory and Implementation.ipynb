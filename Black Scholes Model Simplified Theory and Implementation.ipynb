{
 "cells": [
  {
   "cell_type": "code",
   "execution_count": null,
   "id": "8f63cd4a",
   "metadata": {},
   "outputs": [],
   "source": [
    "# Link for blogpost https://medium.com/@patelsaadn/black-scholes-model-simplified-theory-and-implementation-7dda21c2a6b9\n"
   ]
  },
  {
   "cell_type": "code",
   "execution_count": 5,
   "id": "5c4e2493",
   "metadata": {},
   "outputs": [],
   "source": [
    "import os\n",
    "from math import *\n",
    "from scipy.stats import norm\n",
    "import numpy as np\n",
    "import pandas as pd\n",
    "import scipy\n",
    "from datetime import datetime, timedelta\n",
    "import statsmodels.api as sm\n",
    "import matplotlib.pyplot as plt\n",
    "import pandas_datareader as pdr\n"
   ]
  },
  {
   "cell_type": "code",
   "execution_count": 10,
   "id": "1308a9a9",
   "metadata": {},
   "outputs": [],
   "source": [
    "sigma = 3 #Volatility\n",
    "T = 1 #volatility time to expiry T\n",
    "S = 299.55 #current stock price S\n",
    "r = 0.04 #short-term rate of interest per anum r\n",
    "K = 90 # strike price K"
   ]
  },
  {
   "cell_type": "code",
   "execution_count": 14,
   "id": "ca83ef90",
   "metadata": {},
   "outputs": [],
   "source": [
    "# Calculations for the solution to BSM equation\n",
    "d1 = (1/(sigma*sqrt(T)))*((log(S/K))+(r+(sigma**2)/2)*T)\n",
    "d2 = (1/(sigma*sqrt(T)))*((log(S/K))+(r-(sigma**2)/2)*T)\n"
   ]
  },
  {
   "cell_type": "code",
   "execution_count": 15,
   "id": "dc9716c6",
   "metadata": {},
   "outputs": [],
   "source": [
    "# Calculating price of Call and Put\n",
    "#scipy.stats.norm.cdf will help us in calculating cumulative distribution function value for d1 and d2.\n",
    "\n",
    "Call = S*norm.cdf(d1) - K*exp(-r*T)*norm.cdf(d2)\n",
    "Put = K*exp(-r*T)*norm.cdf(-d2)-S*norm.cdf(-d1)\n"
   ]
  },
  {
   "cell_type": "code",
   "execution_count": 17,
   "id": "20bd26d5",
   "metadata": {},
   "outputs": [],
   "source": [
    "'''scipy.stats.norm.cdf will help us in calculating cumulative distribution function value\n",
    "for d1 and d2.\n",
    "'''\n",
    "Call = S*norm.cdf(d1) - K*exp(-r*T)*norm.cdf(d2)\n",
    "Put = K*exp(-r*T)*norm.cdf(-d2)-S*norm.cdf(-d1)"
   ]
  },
  {
   "cell_type": "code",
   "execution_count": 16,
   "id": "5b0f987d",
   "metadata": {},
   "outputs": [
    {
     "name": "stdout",
     "output_type": "stream",
     "text": [
      "The Price of the Call option using BSM is  279.223\n",
      "The Price of the Put option using BSM is  66.144\n"
     ]
    }
   ],
   "source": [
    "# Printing the values of call an put options\n",
    "print(\"The Price of the Call option using BSM is \", round(Call, 3))\n",
    "print(\"The Price of the Put option using BSM is \", round(Put,  3))"
   ]
  },
  {
   "cell_type": "code",
   "execution_count": null,
   "id": "caea54ac",
   "metadata": {},
   "outputs": [],
   "source": []
  }
 ],
 "metadata": {
  "kernelspec": {
   "display_name": "Python 3 (ipykernel)",
   "language": "python",
   "name": "python3"
  },
  "language_info": {
   "codemirror_mode": {
    "name": "ipython",
    "version": 3
   },
   "file_extension": ".py",
   "mimetype": "text/x-python",
   "name": "python",
   "nbconvert_exporter": "python",
   "pygments_lexer": "ipython3",
   "version": "3.9.12"
  }
 },
 "nbformat": 4,
 "nbformat_minor": 5
}
