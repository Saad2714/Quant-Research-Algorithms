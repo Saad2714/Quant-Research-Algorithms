{
 "cells": [
  {
   "cell_type": "markdown",
   "id": "136f8f49",
   "metadata": {},
   "source": [
    "Link for blogpost part 1: https://medium.com/@patelsaadn/complete-regression-part-1-linear-regression-466f6d62949a"
   ]
  },
  {
   "cell_type": "code",
   "execution_count": null,
   "id": "7793fb69",
   "metadata": {},
   "outputs": [],
   "source": [
    "import pandas as pd\n",
    "import numpy as np\n",
    "\n",
    "def fit_linear_regression(X, y):\n",
    "    # Add a column of ones for the intercept term\n",
    "    X = np.c_[np.ones(X.shape[0]), X]\n",
    "    \n",
    "    # Calculate coefficients using OLS method\n",
    "    coefficients = np.linalg.inv(X.T.dot(X)).dot(X.T).dot(y)\n",
    "    \n",
    "    return coefficients\n",
    "\n",
    "def predict_linear_regression(X, coefficients):\n",
    "    # Add a column of ones for the intercept term\n",
    "    X = np.c_[np.ones(X.shape[0]), X]\n",
    "    \n",
    "    return X.dot(coefficients)\n",
    "\n",
    "def r_squared(y_true, y_pred):\n",
    "    y_mean = np.mean(y_true)\n",
    "    ss_total = np.sum((y_true - y_mean) ** 2)\n",
    "    ss_residual = np.sum((y_true - y_pred) ** 2)\n",
    "    return 1 - (ss_residual / ss_total)\n",
    "\n",
    "def adjusted_r_squared(y_true, y_pred, n_features):\n",
    "    r_squared_value = r_squared(y_true, y_pred)\n",
    "    n = len(y_true)\n",
    "    adjusted_r_squared_value = 1 - (1 - r_squared_value) * (n - 1) / (n - n_features - 1)\n",
    "    return adjusted_r_squared_value\n",
    "\n",
    "# Example usage:\n",
    "# Create a sample dataframe\n",
    "data = {\n",
    "    'X': [1, 2, 3, 4, 5],\n",
    "    'y': [2, 4, 5, 4, 5]\n",
    "}\n",
    "df = pd.DataFrame(data)\n",
    "\n",
    "# Split features and target variable\n",
    "X = df[['X']].values\n",
    "y = df['y'].values\n",
    "\n",
    "# Fit the model\n",
    "coefficients = fit_linear_regression(X, y)\n",
    "\n",
    "# Make predictions\n",
    "predictions = predict_linear_regression(X, coefficients)\n",
    "\n",
    "# Calculate R-squared and adjusted R-squared\n",
    "r_squared_value = r_squared(y, predictions)\n",
    "adjusted_r_squared_value = adjusted_r_squared(y, predictions, X.shape[1])\n",
    "\n",
    "print(\"Coefficients:\", coefficients)\n",
    "print(\"R-squared:\", r_squared_value)\n",
    "print(\"Adjusted R-squared:\", adjusted_r_squared_value)\n"
   ]
  },
  {
   "cell_type": "markdown",
   "id": "c8a512c0",
   "metadata": {},
   "source": [
    "Link for blogpost part 2 : "
   ]
  },
  {
   "cell_type": "code",
   "execution_count": null,
   "id": "e6e9edcf",
   "metadata": {},
   "outputs": [],
   "source": []
  },
  {
   "cell_type": "markdown",
   "id": "abdcfb0b",
   "metadata": {},
   "source": [
    "Link for blogpost part 3 : "
   ]
  },
  {
   "cell_type": "code",
   "execution_count": null,
   "id": "e5e39282",
   "metadata": {},
   "outputs": [],
   "source": []
  }
 ],
 "metadata": {
  "kernelspec": {
   "display_name": "Python 3 (ipykernel)",
   "language": "python",
   "name": "python3"
  },
  "language_info": {
   "codemirror_mode": {
    "name": "ipython",
    "version": 3
   },
   "file_extension": ".py",
   "mimetype": "text/x-python",
   "name": "python",
   "nbconvert_exporter": "python",
   "pygments_lexer": "ipython3",
   "version": "3.9.13"
  }
 },
 "nbformat": 4,
 "nbformat_minor": 5
}
